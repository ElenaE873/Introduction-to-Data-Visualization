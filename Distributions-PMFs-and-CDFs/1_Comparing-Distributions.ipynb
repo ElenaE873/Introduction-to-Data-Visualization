{
 "cells": [
  {
   "cell_type": "markdown",
   "id": "848ba3c6",
   "metadata": {},
   "source": [
    "PMF - Probability Mass Function\n",
    "- probability that you get exactly x\n",
    "\n",
    "CDF - Cummulative Distribution Function\n",
    "- probability that you get a value <=x"
   ]
  }
 ],
 "metadata": {
  "kernelspec": {
   "display_name": "Python 3 (ipykernel)",
   "language": "python",
   "name": "python3"
  },
  "language_info": {
   "codemirror_mode": {
    "name": "ipython",
    "version": 3
   },
   "file_extension": ".py",
   "mimetype": "text/x-python",
   "name": "python",
   "nbconvert_exporter": "python",
   "pygments_lexer": "ipython3",
   "version": "3.9.7"
  }
 },
 "nbformat": 4,
 "nbformat_minor": 5
}
