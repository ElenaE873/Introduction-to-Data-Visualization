{
 "cells": [
  {
   "cell_type": "markdown",
   "id": "88f37ad1",
   "metadata": {},
   "source": [
    "Show the mean of a quantitative variable FOR the OBSERVATIONS in each category, plotted as a single point"
   ]
  },
  {
   "cell_type": "markdown",
   "id": "ae8bec11",
   "metadata": {},
   "source": [
    "##### Point Plots vs. Line Plots"
   ]
  },
  {
   "cell_type": "markdown",
   "id": "722035c5",
   "metadata": {},
   "source": [
    "Both:\n",
    "- mean of quantitative variable\n",
    "- 95% confidence intervals for the mean\n",
    "\n",
    "Differences:\n",
    "- Line Plot: **Quantitative** variable (usually time) on x-axis\n",
    "- Point Plot: **Categorical** variable on x-axis"
   ]
  },
  {
   "cell_type": "code",
   "execution_count": null,
   "id": "c6173f96",
   "metadata": {},
   "outputs": [],
   "source": [
    "sns.catplot(x=\"column1\",\n",
    "            y=\"column2\", \n",
    "            data=df,\n",
    "            kind=\"point\",\n",
    "            join=False\n",
    "            #this is when we may want to view without the lines joining the points\n",
    "           )\n",
    "plt.show()"
   ]
  },
  {
   "cell_type": "markdown",
   "id": "45644990",
   "metadata": {},
   "source": [
    "##### Customization"
   ]
  },
  {
   "cell_type": "code",
   "execution_count": null,
   "id": "5815690f",
   "metadata": {},
   "outputs": [],
   "source": [
    "#to calculate the Confidence Interval based on the Median (rather than mean)\n",
    "from numpy import median\n",
    "\n",
    "sns.catplot(x=\"column1\",\n",
    "            y=\"column2\", \n",
    "            data=df,\n",
    "            kind=\"point\",\n",
    "            estimator=median,\n",
    "            #median is more roboust to outliers; if data has more outliers this is the \n",
    "            #better statitic to use\n",
    "            capsize=0.2)\n",
    "            #adding capts to the intervals\n",
    "\n",
    "#you can also turn confidence intervals off by ci=None"
   ]
  }
 ],
 "metadata": {
  "kernelspec": {
   "display_name": "Python 3 (ipykernel)",
   "language": "python",
   "name": "python3"
  },
  "language_info": {
   "codemirror_mode": {
    "name": "ipython",
    "version": 3
   },
   "file_extension": ".py",
   "mimetype": "text/x-python",
   "name": "python",
   "nbconvert_exporter": "python",
   "pygments_lexer": "ipython3",
   "version": "3.9.7"
  }
 },
 "nbformat": 4,
 "nbformat_minor": 5
}
