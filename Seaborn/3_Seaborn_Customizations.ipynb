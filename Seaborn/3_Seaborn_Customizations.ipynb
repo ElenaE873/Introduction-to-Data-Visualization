{
 "cells": [
  {
   "cell_type": "markdown",
   "id": "7e8d6843",
   "metadata": {},
   "source": [
    "- this applies to both .scatterplot() and .relplot()"
   ]
  },
  {
   "cell_type": "markdown",
   "id": "87b15e4f",
   "metadata": {},
   "source": [
    "##### varying point size"
   ]
  },
  {
   "cell_type": "markdown",
   "id": "f0724771",
   "metadata": {},
   "source": [
    "- when dealing with: \n",
    "    - a) a quantitative variable\n",
    "    - or b) a categorical variable with different levels"
   ]
  },
  {
   "cell_type": "markdown",
   "id": "7e1dc0d1",
   "metadata": {},
   "source": [
    "##### size and hue can be used together"
   ]
  },
  {
   "cell_type": "code",
   "execution_count": null,
   "id": "6686825d",
   "metadata": {},
   "outputs": [],
   "source": [
    "sns.relplot(x=\"column1\",\n",
    "           y=\"column2\",\n",
    "            data=df,\n",
    "            kind=\"scatter\",\n",
    "            \n",
    "            size=\"column3\",\n",
    "            hue=\"column3\",\n",
    "            \n",
    "            style=\"column3\" #create multiple style points for different values\n",
    "            #on the same note if equal to the hue values, that it will also make \n",
    "            #distinct pointers for the hue value\n",
    "           )"
   ]
  },
  {
   "cell_type": "markdown",
   "id": "d6dc8e43",
   "metadata": {},
   "source": [
    "##### point transparency"
   ]
  },
  {
   "cell_type": "code",
   "execution_count": null,
   "id": "313fde8d",
   "metadata": {},
   "outputs": [],
   "source": [
    "#setting alpha to be between 0 and 1\n",
    "\n",
    "sns.relplot(x=\"column1\",\n",
    "           y=\"column2\",\n",
    "            data=df,\n",
    "            kind=\"scatter\",\n",
    "            \n",
    "            alpha=0.4)"
   ]
  },
  {
   "cell_type": "markdown",
   "id": "dc8b3812",
   "metadata": {},
   "source": [
    "##### Experimenting with the styles"
   ]
  },
  {
   "cell_type": "code",
   "execution_count": null,
   "id": "858cca7b",
   "metadata": {},
   "outputs": [],
   "source": [
    "#default seaborn style\n",
    "sns.set()"
   ]
  },
  {
   "cell_type": "code",
   "execution_count": null,
   "id": "9b2cacb4",
   "metadata": {},
   "outputs": [],
   "source": [
    "#to set the style a certain type\n",
    "sns.set_style('dark')"
   ]
  },
  {
   "cell_type": "code",
   "execution_count": null,
   "id": "c80586ba",
   "metadata": {},
   "outputs": [],
   "source": [
    "#to examine what might work best, try all \n",
    "for style in ['white', 'dark', 'whitegrig', 'darkgrid', 'ticks']:\n",
    "    sns.set_style(style)\n",
    "    sns.displot(df['Tuition'])\n",
    "    plt.show()"
   ]
  },
  {
   "cell_type": "markdown",
   "id": "7f6f1f87",
   "metadata": {},
   "source": [
    "##### Removing the axes"
   ]
  },
  {
   "cell_type": "code",
   "execution_count": null,
   "id": "31eef90e",
   "metadata": {},
   "outputs": [],
   "source": [
    "sns.despine(left=True)\n",
    "\n",
    "#removing top and right spines\n",
    "sns.despine() #<<-no arguments"
   ]
  },
  {
   "cell_type": "markdown",
   "id": "39320a30",
   "metadata": {},
   "source": [
    "note: *most material on customization is also located in notebook: 8_Seaborn-Customizing-Seaborn-Plots\", especially around colors and color pallettes*"
   ]
  },
  {
   "cell_type": "markdown",
   "id": "b68a3e84",
   "metadata": {},
   "source": [
    "#### Customizing with Matplotlib"
   ]
  },
  {
   "cell_type": "markdown",
   "id": "8a2ea470",
   "metadata": {},
   "source": [
    "##### Axes object"
   ]
  },
  {
   "cell_type": "code",
   "execution_count": null,
   "id": "265fcd56",
   "metadata": {},
   "outputs": [],
   "source": [
    "fig, ax = plt.subplots()\n",
    "\n",
    "sns.distplot(df['column'], ax=ax)\n",
    "\n",
    "ax.set(xlabel=\"Title\")\n",
    "\n",
    "#or additional parameters\n",
    "ax.set(xlabel=\"XTitle\",\n",
    "      ylabel=\"YTitle\",\n",
    "      xlim=(0,5000),  #limit of the x values range\n",
    "      title=\"TitleofPlot\")"
   ]
  }
 ],
 "metadata": {
  "kernelspec": {
   "display_name": "Python 3 (ipykernel)",
   "language": "python",
   "name": "python3"
  },
  "language_info": {
   "codemirror_mode": {
    "name": "ipython",
    "version": 3
   },
   "file_extension": ".py",
   "mimetype": "text/x-python",
   "name": "python",
   "nbconvert_exporter": "python",
   "pygments_lexer": "ipython3",
   "version": "3.9.7"
  }
 },
 "nbformat": 4,
 "nbformat_minor": 5
}
