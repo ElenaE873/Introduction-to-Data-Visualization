{
 "cells": [
  {
   "cell_type": "code",
   "execution_count": null,
   "id": "2d232c23",
   "metadata": {},
   "outputs": [],
   "source": [
    "sns.regplot(data=df,\n",
    "           x='column1',\n",
    "           y='column2',\n",
    "           marker='+',\n",
    "           color='g')"
   ]
  },
  {
   "cell_type": "markdown",
   "id": "9948db26",
   "metadata": {},
   "source": [
    "#### residplot()"
   ]
  },
  {
   "cell_type": "markdown",
   "id": "dcf9aaf5",
   "metadata": {},
   "source": [
    "- an optimal plot for evaluating the fit of a model"
   ]
  },
  {
   "cell_type": "code",
   "execution_count": null,
   "id": "734ac43e",
   "metadata": {},
   "outputs": [],
   "source": [
    "sns.residplot(data=df, x='column1', y='column2')"
   ]
  }
 ],
 "metadata": {
  "kernelspec": {
   "display_name": "Python 3 (ipykernel)",
   "language": "python",
   "name": "python3"
  },
  "language_info": {
   "codemirror_mode": {
    "name": "ipython",
    "version": 3
   },
   "file_extension": ".py",
   "mimetype": "text/x-python",
   "name": "python",
   "nbconvert_exporter": "python",
   "pygments_lexer": "ipython3",
   "version": "3.9.7"
  }
 },
 "nbformat": 4,
 "nbformat_minor": 5
}
