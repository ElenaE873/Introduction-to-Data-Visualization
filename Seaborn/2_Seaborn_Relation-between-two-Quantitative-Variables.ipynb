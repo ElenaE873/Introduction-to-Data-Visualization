{
 "cells": [
  {
   "cell_type": "markdown",
   "id": "6b98ab31",
   "metadata": {},
   "source": [
    "##### relational plots"
   ]
  },
  {
   "cell_type": "markdown",
   "id": "486dc7b2",
   "metadata": {},
   "source": [
    "- the biggest advantage: create subplots in a single figure"
   ]
  },
  {
   "cell_type": "code",
   "execution_count": null,
   "id": "9b4f40a6",
   "metadata": {},
   "outputs": [],
   "source": [
    "import seaborn as sns\n",
    "import matplotlib.pyplot as plt\n",
    "\n",
    "sns.relplot(x=\"column1\", \n",
    "            y=\"column2\",\n",
    "           data=df,\n",
    "           kind=\"scatter\", #kind paramter determines the type of relational plot\n",
    "           col=\"column3\",  #arrangement is horizontal by values in column 3\n",
    "            row=\"column4\", #arrangement is vertical by the values in column 4\n",
    "           col_wrap=x,      #how many subplots per row, x is any whole number\n",
    "           col_order=['item1','item2','item3'...],  \n",
    "            #setting the order of the subplots by \"col\" values\n",
    "           )  \n",
    "plt.show()\n",
    "\n",
    "#SyntaxError: positional argument follows keyword argument often will inform  you that you must have \n",
    "#col then col_order then row than row_order"
   ]
  }
 ],
 "metadata": {
  "kernelspec": {
   "display_name": "Python 3 (ipykernel)",
   "language": "python",
   "name": "python3"
  },
  "language_info": {
   "codemirror_mode": {
    "name": "ipython",
    "version": 3
   },
   "file_extension": ".py",
   "mimetype": "text/x-python",
   "name": "python",
   "nbconvert_exporter": "python",
   "pygments_lexer": "ipython3",
   "version": "3.9.7"
  }
 },
 "nbformat": 4,
 "nbformat_minor": 5
}
