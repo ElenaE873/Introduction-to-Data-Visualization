{
 "cells": [
  {
   "cell_type": "markdown",
   "id": "bd4680d0",
   "metadata": {},
   "source": [
    "##### relational plots come in two forms:"
   ]
  },
  {
   "cell_type": "markdown",
   "id": "af1561d3",
   "metadata": {},
   "source": [
    "- 1 - Scatter Plots: relationship between dependent/independent variables\n",
    "- 2 - Line Plots: tracking something over time "
   ]
  },
  {
   "cell_type": "code",
   "execution_count": null,
   "id": "ace4e206",
   "metadata": {},
   "outputs": [],
   "source": [
    "import matplotlib.pyplot as plt\n",
    "import seaborn as sns\n",
    "\n",
    "sns.relplot(x=\"column1\",\n",
    "           y=\"column2\",\n",
    "            data=df,\n",
    "            kind=\"line\",\n",
    "            \n",
    "            #line plots by subgrouns in another variable\n",
    "            hue=\"column3\",\n",
    "            #and changing the line style as well \n",
    "            style=\"column3\",\n",
    "            \n",
    "            #sets a marker for each datapoint in the line\n",
    "            markers=True\n",
    "           )"
   ]
  },
  {
   "cell_type": "markdown",
   "id": "7bed8ed9",
   "metadata": {},
   "source": [
    "##### confidence interval will automatically be calculated in some cases"
   ]
  },
  {
   "cell_type": "markdown",
   "id": "9c95858d",
   "metadata": {},
   "source": [
    "- shaded region of a line graph will represent this confidence interval\n",
    "- assumes dataset is a random sample\n",
    "- 95% confidence that the mean is within this range\n",
    "- indicates uncertainty in our estimate"
   ]
  },
  {
   "cell_type": "code",
   "execution_count": null,
   "id": "1ec015b1",
   "metadata": {},
   "outputs": [],
   "source": [
    "sns.relplot(x=\"column1\",\n",
    "           y=\"column2\",\n",
    "            data=df,\n",
    "            kind=\"line\",\n",
    "            ci=\"sd\"  \n",
    "            #it can also be set to None (no quotes)\n",
    "           )"
   ]
  }
 ],
 "metadata": {
  "kernelspec": {
   "display_name": "Python 3 (ipykernel)",
   "language": "python",
   "name": "python3"
  },
  "language_info": {
   "codemirror_mode": {
    "name": "ipython",
    "version": 3
   },
   "file_extension": ".py",
   "mimetype": "text/x-python",
   "name": "python",
   "nbconvert_exporter": "python",
   "pygments_lexer": "ipython3",
   "version": "3.9.7"
  }
 },
 "nbformat": 4,
 "nbformat_minor": 5
}
