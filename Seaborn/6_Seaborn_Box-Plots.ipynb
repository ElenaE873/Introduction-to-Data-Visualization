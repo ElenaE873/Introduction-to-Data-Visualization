{
 "cells": [
  {
   "cell_type": "markdown",
   "id": "ad830c11",
   "metadata": {},
   "source": [
    "- shows the distribution between quantitative variables\n",
    "- you can determine median, spread, skewdness and outliers\n",
    "- used often to do comparisons between groups"
   ]
  },
  {
   "cell_type": "code",
   "execution_count": null,
   "id": "7ee9e95d",
   "metadata": {},
   "outputs": [],
   "source": [
    "import seaborn as sns\n",
    "import matplotlib.pyplot as plt\n",
    "\n",
    "sns.catplot(x=\"column1\",\n",
    "            y=\"column2\", \n",
    "            data=df,\n",
    "            kind=\"box\")\n",
    "\n",
    "plt.show()"
   ]
  },
  {
   "cell_type": "markdown",
   "id": "0601d67c",
   "metadata": {},
   "source": [
    "##### Customizations"
   ]
  },
  {
   "cell_type": "code",
   "execution_count": null,
   "id": "4ab0c956",
   "metadata": {},
   "outputs": [],
   "source": [
    "#ordering x axis categories\n",
    "\n",
    "sns.catplot(x=\"column1\",\n",
    "            y=\"column2\", \n",
    "            data=df,\n",
    "            kind=\"box\",\n",
    "           order=[\"group1\",\"group2\"],\n",
    "           sym=\"\"   \n",
    "            #occasionally you may want to omit the outliers from boxplot\n",
    "           )\n",
    "\n",
    "plt.show()"
   ]
  },
  {
   "cell_type": "code",
   "execution_count": null,
   "id": "e33bfcaa",
   "metadata": {},
   "outputs": [],
   "source": [
    "#changing the whiskers using the 'whis' parameter\n",
    "#there are three ways to do this:\n",
    "\n",
    "# - 1 - whis=2.0  - extends from 1.5 to 2.0*IQR\n",
    "# - 2 - whis=[5, 95] - 5% & 95%\n",
    "# - 3 - whis=[0, 100] - whiskers are at min and max {in this scenario, no ouliers}-cover span"
   ]
  }
 ],
 "metadata": {
  "kernelspec": {
   "display_name": "Python 3 (ipykernel)",
   "language": "python",
   "name": "python3"
  },
  "language_info": {
   "codemirror_mode": {
    "name": "ipython",
    "version": 3
   },
   "file_extension": ".py",
   "mimetype": "text/x-python",
   "name": "python",
   "nbconvert_exporter": "python",
   "pygments_lexer": "ipython3",
   "version": "3.9.7"
  }
 },
 "nbformat": 4,
 "nbformat_minor": 5
}
