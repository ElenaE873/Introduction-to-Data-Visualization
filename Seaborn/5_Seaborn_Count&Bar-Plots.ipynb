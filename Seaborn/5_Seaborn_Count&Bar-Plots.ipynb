{
 "cells": [
  {
   "cell_type": "markdown",
   "id": "00efd641",
   "metadata": {},
   "source": [
    "##### .catplot()"
   ]
  },
  {
   "cell_type": "markdown",
   "id": "271acc1b",
   "metadata": {},
   "source": [
    "- used when aiming to compare different groups\n",
    "- you can create the order of the categories as you like"
   ]
  },
  {
   "cell_type": "code",
   "execution_count": null,
   "id": "4171f0d3",
   "metadata": {},
   "outputs": [],
   "source": [
    "category_order = [\"item1\", 'item2', 'item3'...]\n",
    "\n",
    "sns.catplot(x=\"column1\",\n",
    "           data=df,\n",
    "           kind=\"count\",\n",
    "           oder=category_order\n",
    "           )\n",
    "plt.show()"
   ]
  },
  {
   "cell_type": "markdown",
   "id": "a814b4ea",
   "metadata": {},
   "source": [
    "- confidence intervals here works just with the line plot & and here as well they can be turned off in the same manner by setting ci=None"
   ]
  },
  {
   "cell_type": "markdown",
   "id": "d0a76870",
   "metadata": {},
   "source": [
    "##### changing the orientation of the Bar Plots"
   ]
  },
  {
   "cell_type": "markdown",
   "id": "45bfd6cd",
   "metadata": {},
   "source": [
    "- by changing the x and y parameters"
   ]
  },
  {
   "cell_type": "code",
   "execution_count": null,
   "id": "2ab4ee16",
   "metadata": {},
   "outputs": [],
   "source": [
    "sns.catplot(y=\"column1\", \n",
    "            data=df,\n",
    "            kind=\"count\")\n",
    "plt.show()"
   ]
  },
  {
   "cell_type": "code",
   "execution_count": null,
   "id": "02aa838d",
   "metadata": {},
   "outputs": [],
   "source": [
    "sns.catplot(y=\"column1\", \n",
    "            data=df,\n",
    "            kind=\"count\",\n",
    "           col=\"column2\")\n",
    "            #divides the horizontal bar chart into the values of the column2\n",
    "plt.show() "
   ]
  },
  {
   "cell_type": "code",
   "execution_count": null,
   "id": "f5ed166b",
   "metadata": {},
   "outputs": [],
   "source": [
    "#doing a count bar chart with dependent/indenpendent variables\n",
    "sns.catplot(x=\"column1\",\n",
    "            y=\"column2\", \n",
    "            data=df,\n",
    "            kind=\"bar\")"
   ]
  }
 ],
 "metadata": {
  "kernelspec": {
   "display_name": "Python 3 (ipykernel)",
   "language": "python",
   "name": "python3"
  },
  "language_info": {
   "codemirror_mode": {
    "name": "ipython",
    "version": 3
   },
   "file_extension": ".py",
   "mimetype": "text/x-python",
   "name": "python",
   "nbconvert_exporter": "python",
   "pygments_lexer": "ipython3",
   "version": "3.9.7"
  }
 },
 "nbformat": 4,
 "nbformat_minor": 5
}
