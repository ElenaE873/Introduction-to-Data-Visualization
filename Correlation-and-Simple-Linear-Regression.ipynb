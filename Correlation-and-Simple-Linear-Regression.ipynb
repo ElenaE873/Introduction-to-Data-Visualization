{
 "cells": [
  {
   "cell_type": "markdown",
   "id": "665bd153",
   "metadata": {},
   "source": [
    "Correlation:\n",
    "- in general means any relationship between two variables\n",
    "\n",
    "In Statistics, it means Pearson's Correlation coefficient:\n",
    "- a number between -1 and 1 that quantifies the strength of a linear relationship between variables\n"
   ]
  },
  {
   "cell_type": "code",
   "execution_count": null,
   "id": "fadf9be9",
   "metadata": {},
   "outputs": [],
   "source": [
    "#setting a subset of a dataframe based on specific columns\n",
    "columns = ['column1', 'column2', 'column3']\n",
    "subset = df[columns]\n",
    "\n",
    "subset.corr()\n",
    "#the result is a correlation matrixof all the variables correlated to one another"
   ]
  },
  {
   "cell_type": "markdown",
   "id": "d4a5c978",
   "metadata": {},
   "source": [
    "##### small drawback of Correlation Coefficient"
   ]
  },
  {
   "cell_type": "markdown",
   "id": "5ae68f23",
   "metadata": {},
   "source": [
    "- Correlations only works with LINEAR relationships\n"
   ]
  },
  {
   "cell_type": "markdown",
   "id": "2169ff69",
   "metadata": {},
   "source": [
    "This means that there might still be a relationships between two variable, but it may not be linear, in which case, the correlation coefficient may show up as not a strong correlation between the two variable, but that doesn't meant there isn't a strong correlation between variables, it just simply represents the relationship may not be linear."
   ]
  },
  {
   "cell_type": "markdown",
   "id": "225ef528",
   "metadata": {},
   "source": [
    "- this may **underestimate** how strong a relationship between variables might be"
   ]
  },
  {
   "cell_type": "markdown",
   "id": "d0475583",
   "metadata": {},
   "source": [
    "- correlation close to -1, or 1 indicates there is a strong LINEAR relationship\n",
    "- but a lower correlation coefficient does NOT indicate there is NO correlation between the variables\n",
    "- it only indicates there is a low LINEAR relationship"
   ]
  },
  {
   "cell_type": "markdown",
   "id": "c8808acf",
   "metadata": {},
   "source": [
    "##### Correlation Coefficient also doesn't not indicate anything about the slope of the linear relationship"
   ]
  },
  {
   "cell_type": "markdown",
   "id": "62dca342",
   "metadata": {},
   "source": [
    "- and this is the more important statistic"
   ]
  },
  {
   "cell_type": "markdown",
   "id": "77a9182b",
   "metadata": {},
   "source": [
    "#### Simple LInear Regression"
   ]
  },
  {
   "cell_type": "code",
   "execution_count": null,
   "id": "43792e54",
   "metadata": {},
   "outputs": [],
   "source": [
    "#strength of the effect\n",
    "\n",
    "from scipy.stats import linregress\n",
    "\n",
    "res = linregress(xs, ys)\n",
    "#the result is a linregressResult with 5 values:\n",
    "#1 slope: slope of best fit line for the data\n",
    "#2 intercept\n",
    "#3 rvalue: correlation\n",
    "#4 pvalue\n",
    "#5 stderr"
   ]
  },
  {
   "cell_type": "markdown",
   "id": "a6ff6074",
   "metadata": {},
   "source": [
    "##### Limits of Simple Regression"
   ]
  },
  {
   "cell_type": "markdown",
   "id": "26f58f81",
   "metadata": {},
   "source": [
    "- Regression is not symmetric, meaning:\n",
    "    - regression of A onto B is not the same as regression of B onto A\n",
    "- Regression is not causation"
   ]
  }
 ],
 "metadata": {
  "kernelspec": {
   "display_name": "Python 3 (ipykernel)",
   "language": "python",
   "name": "python3"
  },
  "language_info": {
   "codemirror_mode": {
    "name": "ipython",
    "version": 3
   },
   "file_extension": ".py",
   "mimetype": "text/x-python",
   "name": "python",
   "nbconvert_exporter": "python",
   "pygments_lexer": "ipython3",
   "version": "3.9.7"
  }
 },
 "nbformat": 4,
 "nbformat_minor": 5
}
