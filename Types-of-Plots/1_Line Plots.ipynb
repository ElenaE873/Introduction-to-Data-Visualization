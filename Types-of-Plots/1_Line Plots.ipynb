{
 "cells": [
  {
   "cell_type": "markdown",
   "id": "bca8ac53",
   "metadata": {},
   "source": [
    "### Create and View Line Plots"
   ]
  },
  {
   "cell_type": "code",
   "execution_count": null,
   "id": "a18aa929",
   "metadata": {},
   "outputs": [],
   "source": [
    "from matplotlib import pyplot as plt\n",
    "\n",
    "plt.plot(x_values, y_values)\n",
    "#plot.plot - function\n",
    "#x_values - first argument\n",
    "#y_values - second argument\n",
    "#example: \n",
    "plt.plot(df.column1, df.column2)\n",
    "\n",
    "plt.show()\n",
    "#to display what has been created"
   ]
  },
  {
   "cell_type": "markdown",
   "id": "9385fe37",
   "metadata": {},
   "source": [
    "### Adding Labels"
   ]
  },
  {
   "cell_type": "code",
   "execution_count": null,
   "id": "913a8edc",
   "metadata": {},
   "outputs": [],
   "source": [
    "#labeling x-axis\n",
    "plt.xlabel(\"string of xlabel\")\n",
    "\n",
    "ptl.ylabel(\"string of ylabel\")"
   ]
  },
  {
   "cell_type": "code",
   "execution_count": null,
   "id": "f918c16c",
   "metadata": {},
   "outputs": [],
   "source": [
    "plt.title(\"string of title\")"
   ]
  },
  {
   "cell_type": "markdown",
   "id": "07201b38",
   "metadata": {},
   "source": [
    "### Legends"
   ]
  },
  {
   "cell_type": "code",
   "execution_count": null,
   "id": "abce3351",
   "metadata": {},
   "outputs": [],
   "source": [
    "plt.plot(df.column1, df.column2, label = \"Description of what's being plotted\")\n",
    "\n",
    "plt.legend() #tells pythong to just create a legend with the defined label\n"
   ]
  },
  {
   "cell_type": "markdown",
   "id": "edd6e742",
   "metadata": {},
   "source": [
    "### Text"
   ]
  },
  {
   "cell_type": "code",
   "execution_count": null,
   "id": "b2bbc19b",
   "metadata": {},
   "outputs": [],
   "source": [
    "#adding text at a specific coordinate values\n",
    "plt.text(xcoord, ycoord, \"text to include\")"
   ]
  },
  {
   "cell_type": "markdown",
   "id": "d343e0ff",
   "metadata": {},
   "source": [
    "### Modifying text"
   ]
  },
  {
   "cell_type": "code",
   "execution_count": null,
   "id": "e8bfb1b4",
   "metadata": {},
   "outputs": [],
   "source": [
    "plt.title (\"title\", fontsize = 20)\n",
    "plt.legend (color = \"green\")"
   ]
  },
  {
   "cell_type": "markdown",
   "id": "ca5577ec",
   "metadata": {},
   "source": [
    "http://en.wikipedia.org/wiki/Web_colors"
   ]
  },
  {
   "cell_type": "code",
   "execution_count": null,
   "id": "22c3579e",
   "metadata": {},
   "outputs": [],
   "source": []
  }
 ],
 "metadata": {
  "kernelspec": {
   "display_name": "Python 3 (ipykernel)",
   "language": "python",
   "name": "python3"
  },
  "language_info": {
   "codemirror_mode": {
    "name": "ipython",
    "version": 3
   },
   "file_extension": ".py",
   "mimetype": "text/x-python",
   "name": "python",
   "nbconvert_exporter": "python",
   "pygments_lexer": "ipython3",
   "version": "3.9.7"
  }
 },
 "nbformat": 4,
 "nbformat_minor": 5
}
