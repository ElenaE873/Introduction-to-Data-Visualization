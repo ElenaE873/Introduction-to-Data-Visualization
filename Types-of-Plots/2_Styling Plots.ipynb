{
 "cells": [
  {
   "cell_type": "markdown",
   "id": "73707b49",
   "metadata": {},
   "source": [
    "### Changing Line Color"
   ]
  },
  {
   "cell_type": "code",
   "execution_count": null,
   "id": "8462c5be",
   "metadata": {},
   "outputs": [],
   "source": [
    "plt.plot(x, y1, color=\"tomato\") #webcolors from wikipedia\n",
    "#a color for each line can be designated with y2,3,4, etc."
   ]
  },
  {
   "cell_type": "markdown",
   "id": "73455e40",
   "metadata": {},
   "source": [
    "### Thickness of Line"
   ]
  },
  {
   "cell_type": "code",
   "execution_count": null,
   "id": "a6a8ab44",
   "metadata": {},
   "outputs": [],
   "source": [
    "plt.plot(x, y1, linewidth=1) \n",
    "#a width for each line can be designated with y2,3,4, etc.`\n"
   ]
  },
  {
   "cell_type": "markdown",
   "id": "7609e5ce",
   "metadata": {},
   "source": [
    "Lined width can make it easier to see, and it can be useful to drive a more 2-d view."
   ]
  },
  {
   "cell_type": "markdown",
   "id": "647e7fc9",
   "metadata": {},
   "source": [
    "### Line Style "
   ]
  },
  {
   "cell_type": "markdown",
   "id": "66e7a2d4",
   "metadata": {},
   "source": [
    "options can be \n",
    "- '-'\n",
    "- '--'\n",
    "- '-.'\n",
    "- ':'"
   ]
  },
  {
   "cell_type": "code",
   "execution_count": null,
   "id": "ad991f51",
   "metadata": {},
   "outputs": [],
   "source": [
    "plt.plot(x, y1, linestyle= '-') "
   ]
  },
  {
   "cell_type": "markdown",
   "id": "8f90fc4d",
   "metadata": {},
   "source": [
    "### Adding Markers"
   ]
  },
  {
   "cell_type": "markdown",
   "id": "cbd4a7ce",
   "metadata": {},
   "source": [
    "markers can be:\n",
    "- 'x'\n",
    "- 's'\n",
    "- 'o'\n",
    "- 'd'\n",
    "- '*'\n",
    "- 'h'"
   ]
  },
  {
   "cell_type": "markdown",
   "id": "2cf42fef",
   "metadata": {},
   "source": [
    "### Setting a Style"
   ]
  },
  {
   "cell_type": "code",
   "execution_count": null,
   "id": "b13c3618",
   "metadata": {},
   "outputs": [],
   "source": [
    "plt.style.use('fivethirtyeight')"
   ]
  },
  {
   "cell_type": "markdown",
   "id": "e07f42fe",
   "metadata": {},
   "source": [
    "style types:\n",
    "- 'ggplot'\n",
    "- 'seaborn'\n",
    "- 'default'"
   ]
  }
 ],
 "metadata": {
  "kernelspec": {
   "display_name": "Python 3 (ipykernel)",
   "language": "python",
   "name": "python3"
  },
  "language_info": {
   "codemirror_mode": {
    "name": "ipython",
    "version": 3
   },
   "file_extension": ".py",
   "mimetype": "text/x-python",
   "name": "python",
   "nbconvert_exporter": "python",
   "pygments_lexer": "ipython3",
   "version": "3.9.7"
  }
 },
 "nbformat": 4,
 "nbformat_minor": 5
}
