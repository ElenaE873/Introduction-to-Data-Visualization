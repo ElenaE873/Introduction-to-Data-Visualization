{
 "cells": [
  {
   "cell_type": "code",
   "execution_count": null,
   "id": "5ab8477a",
   "metadata": {},
   "outputs": [],
   "source": [
    "plt.scatter(df.xdatacolumn, df.ydatacolumn)"
   ]
  },
  {
   "cell_type": "markdown",
   "id": "e78b6665",
   "metadata": {},
   "source": [
    "Same arguments from line plots can be used to style the scatter plots as well"
   ]
  },
  {
   "cell_type": "code",
   "execution_count": null,
   "id": "f5faaef3",
   "metadata": {},
   "outputs": [],
   "source": [
    "#the small the alpha parameter, the more transparent the dot \n",
    "#when there is a big staturation of dots.\n",
    "\n",
    "plt.scatter(df.x_data, df.y_data, alpha = 0.1)\n",
    "\n",
    "#lighter region - less points\n",
    "#darker region - more points"
   ]
  }
 ],
 "metadata": {
  "kernelspec": {
   "display_name": "Python 3 (ipykernel)",
   "language": "python",
   "name": "python3"
  },
  "language_info": {
   "codemirror_mode": {
    "name": "ipython",
    "version": 3
   },
   "file_extension": ".py",
   "mimetype": "text/x-python",
   "name": "python",
   "nbconvert_exporter": "python",
   "pygments_lexer": "ipython3",
   "version": "3.9.7"
  }
 },
 "nbformat": 4,
 "nbformat_minor": 5
}
