{
 "cells": [
  {
   "cell_type": "markdown",
   "id": "f166894a",
   "metadata": {},
   "source": [
    "### Histogram"
   ]
  },
  {
   "cell_type": "code",
   "execution_count": null,
   "id": "d9dc835c",
   "metadata": {},
   "outputs": [],
   "source": [
    "#creating a histogram of the column in a df\n",
    "plt.hist(df.column)"
   ]
  },
  {
   "cell_type": "code",
   "execution_count": null,
   "id": "a951a93a",
   "metadata": {},
   "outputs": [],
   "source": [
    "plt.hist(data, bins=nbins) \n",
    "\n",
    "plt.hist(data, range=(xmin, xmax))"
   ]
  },
  {
   "cell_type": "code",
   "execution_count": null,
   "id": "84f6dd1b",
   "metadata": {},
   "outputs": [],
   "source": [
    "#comparing histograms based on a variable for distributions"
   ]
  },
  {
   "cell_type": "code",
   "execution_count": null,
   "id": "15800755",
   "metadata": {},
   "outputs": [],
   "source": [
    "plt.hist(male_weight)\n",
    "plt.hist(female_weight)"
   ]
  },
  {
   "cell_type": "markdown",
   "id": "0e04943d",
   "metadata": {},
   "source": [
    "### Normalization of the HIstograms"
   ]
  },
  {
   "cell_type": "code",
   "execution_count": null,
   "id": "02c6c55f",
   "metadata": {},
   "outputs": [],
   "source": [
    "#so that the sum of the bins add to 1\n",
    "plt.hist(male_weight, density=True)\n",
    "plt.hist(female_weight, density=True)"
   ]
  }
 ],
 "metadata": {
  "kernelspec": {
   "display_name": "Python 3 (ipykernel)",
   "language": "python",
   "name": "python3"
  },
  "language_info": {
   "codemirror_mode": {
    "name": "ipython",
    "version": 3
   },
   "file_extension": ".py",
   "mimetype": "text/x-python",
   "name": "python",
   "nbconvert_exporter": "python",
   "pygments_lexer": "ipython3",
   "version": "3.9.7"
  }
 },
 "nbformat": 4,
 "nbformat_minor": 5
}
