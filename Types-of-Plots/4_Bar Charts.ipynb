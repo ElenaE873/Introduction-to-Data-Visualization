{
 "cells": [
  {
   "cell_type": "markdown",
   "id": "2aab26e5",
   "metadata": {},
   "source": [
    "the same methods for line chargs/scatter plots applies to Barcharts as well"
   ]
  },
  {
   "cell_type": "code",
   "execution_count": null,
   "id": "0afaaa8e",
   "metadata": {},
   "outputs": [],
   "source": [
    "plt.bar(df.xcolumn, df.ycolumn)\n",
    "plt.ylabel('Pet Abd')\n",
    "plt.show()"
   ]
  },
  {
   "cell_type": "markdown",
   "id": "4c5f224a",
   "metadata": {},
   "source": [
    "### Horizontal"
   ]
  },
  {
   "cell_type": "code",
   "execution_count": null,
   "id": "909a4171",
   "metadata": {},
   "outputs": [],
   "source": [
    "plt.barh() #all above applies"
   ]
  },
  {
   "cell_type": "markdown",
   "id": "28f741f0",
   "metadata": {},
   "source": [
    "### Adding Error Bars"
   ]
  },
  {
   "cell_type": "code",
   "execution_count": null,
   "id": "7367e8a1",
   "metadata": {},
   "outputs": [],
   "source": [
    "plt.bar(x, y, yerr=df.error) #df.error is an actual column"
   ]
  },
  {
   "cell_type": "markdown",
   "id": "2c5865e8",
   "metadata": {},
   "source": [
    "### Stacked Bar Charts"
   ]
  },
  {
   "cell_type": "markdown",
   "id": "75014a1d",
   "metadata": {},
   "source": [
    "- useful when comparing categories"
   ]
  },
  {
   "cell_type": "code",
   "execution_count": null,
   "id": "daf2d5c4",
   "metadata": {},
   "outputs": [],
   "source": [
    "plt.bar(df.xdatacolumns, df.ydatacolumn, \n",
    "       bottom = df.ydatacolumn2)"
   ]
  },
  {
   "cell_type": "code",
   "execution_count": null,
   "id": "aef72a14",
   "metadata": {},
   "outputs": [],
   "source": [
    "#creating the bar chart\n",
    "plt.bar(df.xdata, df.ydata1, label = \"firstbarchart\")\n",
    "plt.bar(df.xdata, df.ydata2,\n",
    "       bottom=df.ydata2, label = \"stackedchart\")\n",
    "\n",
    "plt.legend()\n",
    "plt.show()"
   ]
  }
 ],
 "metadata": {
  "kernelspec": {
   "display_name": "Python 3 (ipykernel)",
   "language": "python",
   "name": "python3"
  },
  "language_info": {
   "codemirror_mode": {
    "name": "ipython",
    "version": 3
   },
   "file_extension": ".py",
   "mimetype": "text/x-python",
   "name": "python",
   "nbconvert_exporter": "python",
   "pygments_lexer": "ipython3",
   "version": "3.9.7"
  }
 },
 "nbformat": 4,
 "nbformat_minor": 5
}
