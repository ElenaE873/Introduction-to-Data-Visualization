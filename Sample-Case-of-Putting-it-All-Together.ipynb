{
 "cells": [
  {
   "cell_type": "code",
   "execution_count": null,
   "id": "4045d1ad",
   "metadata": {},
   "outputs": [],
   "source": [
    "import matplotlib.pyplot as plt"
   ]
  },
  {
   "cell_type": "markdown",
   "id": "3c43a0d2",
   "metadata": {},
   "source": [
    "Creatinig a Histogram Showing Distribution of a Numeric Variable"
   ]
  },
  {
   "cell_type": "code",
   "execution_count": null,
   "id": "e2a86c38",
   "metadata": {},
   "outputs": [],
   "source": [
    "df[\"numeric_variable\"].hist()\n",
    "plt.show()\n",
    "\n",
    "#x-axis: represents the values in the column\n",
    "#y-axis: represents the number of unique values of the volumn"
   ]
  },
  {
   "cell_type": "markdown",
   "id": "377a479a",
   "metadata": {},
   "source": [
    "This allows for a perspective of DISTRIBUTION of unique values within a column, and the quantities of those unique values distributed across the column."
   ]
  },
  {
   "cell_type": "markdown",
   "id": "85cb8670",
   "metadata": {},
   "source": [
    "Adjusting the number of \"bins\", to get different perspectives of the distributions."
   ]
  },
  {
   "cell_type": "code",
   "execution_count": null,
   "id": "a7b7f03e",
   "metadata": {},
   "outputs": [],
   "source": [
    "df[\"numeric_variable\"].hist(bins=nbins)\n",
    "plt.show()"
   ]
  },
  {
   "cell_type": "markdown",
   "id": "60593ae2",
   "metadata": {},
   "source": [
    "Creating a Bar Plot using the Mean of a column grouped by another."
   ]
  },
  {
   "cell_type": "code",
   "execution_count": null,
   "id": "11108a23",
   "metadata": {},
   "outputs": [],
   "source": [
    "df_avg_values = df.groupby(\"column1\")[\"column2\"].mean()\n",
    "\n",
    "df_avg_values.plot(kind=\"bar\", title=\"Avg Values by Column 1\")\n",
    "plt.show()"
   ]
  },
  {
   "cell_type": "markdown",
   "id": "ba282ea5",
   "metadata": {},
   "source": [
    "Creating a Line Plot"
   ]
  },
  {
   "cell_type": "code",
   "execution_count": null,
   "id": "c874a41b",
   "metadata": {},
   "outputs": [],
   "source": [
    "df.plot(x=\"date\",\n",
    "       y=\"column2\",\n",
    "       kind=\"line\",\n",
    "       rot=45    #rotate the x axis label\n",
    "       )\n",
    "\n",
    "plt.show()"
   ]
  },
  {
   "cell_type": "markdown",
   "id": "27fde0d0",
   "metadata": {},
   "source": [
    "Scatter Plots are great for visualizing the RELATIONSHIP between two Numerical Variables."
   ]
  },
  {
   "cell_type": "code",
   "execution_count": null,
   "id": "3d0127ce",
   "metadata": {},
   "outputs": [],
   "source": [
    "df.plot(x=\"column1\",\n",
    "       y=\"column2\",\n",
    "       kind=\"scatter\")\n",
    "\n",
    "plt.show()"
   ]
  },
  {
   "cell_type": "markdown",
   "id": "8fc94b06",
   "metadata": {},
   "source": [
    "Layering Plots"
   ]
  },
  {
   "cell_type": "code",
   "execution_count": null,
   "id": "dfd35d03",
   "metadata": {},
   "outputs": [],
   "source": [
    "df[df[\"column1\"]==\"value1\"][\"column2\"].hist()\n",
    "df[df[\"column1\"]==\"value2\"][\"column2\"].hist()\n",
    "plt.legend([\"value1\", \"value2\"])   #to label the colors of superposition\n",
    "plt.show()"
   ]
  },
  {
   "cell_type": "code",
   "execution_count": null,
   "id": "38540cc5",
   "metadata": {},
   "outputs": [],
   "source": []
  },
  {
   "cell_type": "code",
   "execution_count": null,
   "id": "1a21d15e",
   "metadata": {},
   "outputs": [],
   "source": []
  },
  {
   "cell_type": "code",
   "execution_count": null,
   "id": "eb2c9f46",
   "metadata": {},
   "outputs": [],
   "source": []
  },
  {
   "cell_type": "code",
   "execution_count": null,
   "id": "b98a1038",
   "metadata": {},
   "outputs": [],
   "source": []
  }
 ],
 "metadata": {
  "kernelspec": {
   "display_name": "Python 3 (ipykernel)",
   "language": "python",
   "name": "python3"
  },
  "language_info": {
   "codemirror_mode": {
    "name": "ipython",
    "version": 3
   },
   "file_extension": ".py",
   "mimetype": "text/x-python",
   "name": "python",
   "nbconvert_exporter": "python",
   "pygments_lexer": "ipython3",
   "version": "3.9.7"
  }
 },
 "nbformat": 4,
 "nbformat_minor": 5
}
