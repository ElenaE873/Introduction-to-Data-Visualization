{
 "cells": [
  {
   "cell_type": "markdown",
   "id": "79509914",
   "metadata": {},
   "source": [
    "##### bar charts"
   ]
  },
  {
   "cell_type": "code",
   "execution_count": null,
   "id": "267df79e",
   "metadata": {},
   "outputs": [],
   "source": [
    "import pandas as pd\n",
    "data = pd.read_csv('filename.csv', index_col=0)\n",
    "\n",
    "#basic structure\n",
    "fig,ax = plt.subplots()\n",
    "ax.bar(data.index, data[\"column\"])\n",
    "plt.show()"
   ]
  },
  {
   "cell_type": "code",
   "execution_count": null,
   "id": "cd829032",
   "metadata": {},
   "outputs": [],
   "source": [
    "#rotating the tick labels\n",
    "\n",
    "ax.set_xticklabels(data.index, rotation=90)"
   ]
  },
  {
   "cell_type": "code",
   "execution_count": null,
   "id": "7ce287a7",
   "metadata": {},
   "outputs": [],
   "source": [
    "#creating a stacked bar chart\n",
    "\n",
    "ax.bar(data.index, data[\"Column1\"])\n",
    "ax.bar(data.index, data[\"Column2\"], bottom=data[\"Column1\"])\n",
    "\n",
    "#stacking Column2 on top of Column 1 data for each x-value item"
   ]
  },
  {
   "cell_type": "code",
   "execution_count": null,
   "id": "687b55dd",
   "metadata": {},
   "outputs": [],
   "source": [
    "#putting it all together forr a full fleshed-out stacked barchart with labels\n",
    "\n",
    "fig,ax = plt.subplots()\n",
    "ax.bar(data.index, data[\"Column1\"])\n",
    "ax.bar(data.index, data[\"Column2\"], bottom=data[\"Column1\"])\n",
    "\n",
    "ax.set_xticklabels(data.index, rotation=90)\n",
    "ax.set_ylabel(\"Quantity of Stack Columns\")\n",
    "\n",
    "plt.show()"
   ]
  },
  {
   "cell_type": "code",
   "execution_count": null,
   "id": "b8f604cd",
   "metadata": {},
   "outputs": [],
   "source": [
    "#adding a legend\n",
    "\n",
    "# - 1 - adding the keyword label argument to the data to each call of the bar method\n",
    "ax.bar(data.index, data[\"Column1\"], label=\"Label1\")\n",
    "ax.bar(data.index, data[\"Column2\"], bottom=data[\"Column1\"], label=\"Label2\")\n",
    "ax.bar(data.index, data[\"Column3\"], bottom=data[\"Column1\"] + data[\"Column2\"], label=\"Label3\")\n",
    "\n",
    "# - 2 - make a call to the legend method\n",
    "ax.legend()  #before calling show()"
   ]
  },
  {
   "cell_type": "code",
   "execution_count": null,
   "id": "bb179c70",
   "metadata": {},
   "outputs": [],
   "source": [
    "#code for plotting with the mean of a column\n",
    "\n",
    "fig, ax = plt.subplots()\n",
    "ax.bar(\"Title\", data[\"column1\"].mean())\n",
    "ax.set_ylabel(\"Title\")\n",
    "plt.show()"
   ]
  }
 ],
 "metadata": {
  "kernelspec": {
   "display_name": "Python 3 (ipykernel)",
   "language": "python",
   "name": "python3"
  },
  "language_info": {
   "codemirror_mode": {
    "name": "ipython",
    "version": 3
   },
   "file_extension": ".py",
   "mimetype": "text/x-python",
   "name": "python",
   "nbconvert_exporter": "python",
   "pygments_lexer": "ipython3",
   "version": "3.9.7"
  }
 },
 "nbformat": 4,
 "nbformat_minor": 5
}
