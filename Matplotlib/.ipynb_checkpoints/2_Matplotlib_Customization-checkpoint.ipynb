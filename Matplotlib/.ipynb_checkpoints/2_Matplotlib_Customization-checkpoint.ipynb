{
 "cells": [
  {
   "cell_type": "code",
   "execution_count": null,
   "id": "8a837d54",
   "metadata": {},
   "outputs": [],
   "source": [
    "#basic structure\n",
    "import matplotlib.pyplot as plt\n",
    "\n",
    "fig, ax = plt.subplots()\n",
    "ax.plot(df[\"column1\"], df[\"column2\"])\n",
    "ax.plot(df[\"column1\"], df[\"column3\"])\n",
    "plt.show()"
   ]
  },
  {
   "cell_type": "markdown",
   "id": "e1318bfb",
   "metadata": {},
   "source": [
    "##### adding markers"
   ]
  },
  {
   "cell_type": "code",
   "execution_count": null,
   "id": "23a2f8a6",
   "metadata": {},
   "outputs": [],
   "source": [
    "#adding the marker argument\n",
    "ax.plot(df[\"column1\"], df[\"column2\"],\n",
    "       marker = \"o\")  #circles (\"o\") as markers\n",
    "\n",
    "#\"V\" triangles pointing downwards\n",
    "#for all markers: http://matplotlib.org/api/markers_api.html"
   ]
  },
  {
   "cell_type": "markdown",
   "id": "5e6c3520",
   "metadata": {},
   "source": [
    "##### setting linestyle"
   ]
  },
  {
   "cell_type": "code",
   "execution_count": null,
   "id": "0aa5e34a",
   "metadata": {},
   "outputs": [],
   "source": [
    "#adding the linestyle argument\n",
    "ax.plot(df[\"column1\"], df[\"column2\"],\n",
    "       linestyle = \"--\")  #you can pass \"None\" to eliminate the line; just points"
   ]
  },
  {
   "cell_type": "markdown",
   "id": "fec278b6",
   "metadata": {},
   "source": [
    "##### choosing color"
   ]
  },
  {
   "cell_type": "code",
   "execution_count": null,
   "id": "b8a34eaa",
   "metadata": {},
   "outputs": [],
   "source": [
    "ax.plot(df[\"column1\"], df[\"column2\"],\n",
    "       color = \"r\")"
   ]
  },
  {
   "cell_type": "markdown",
   "id": "ddadbeca",
   "metadata": {},
   "source": [
    "##### customizing axes labels"
   ]
  },
  {
   "cell_type": "code",
   "execution_count": null,
   "id": "a713c2bb",
   "metadata": {},
   "outputs": [],
   "source": [
    "#start with a capital letter\n",
    "#useful to add units\n",
    "\n",
    "ax.set_xlabel(\"Title of x-axis label\")\n",
    "ax.set_ylabel(\"Title of the y-axis label\")"
   ]
  },
  {
   "cell_type": "markdown",
   "id": "2c18d562",
   "metadata": {},
   "source": [
    "##### adding a title"
   ]
  },
  {
   "cell_type": "code",
   "execution_count": null,
   "id": "f815099d",
   "metadata": {},
   "outputs": [],
   "source": [
    "ax.set_title(\"Title Description\")"
   ]
  }
 ],
 "metadata": {
  "kernelspec": {
   "display_name": "Python 3 (ipykernel)",
   "language": "python",
   "name": "python3"
  },
  "language_info": {
   "codemirror_mode": {
    "name": "ipython",
    "version": 3
   },
   "file_extension": ".py",
   "mimetype": "text/x-python",
   "name": "python",
   "nbconvert_exporter": "python",
   "pygments_lexer": "ipython3",
   "version": "3.9.7"
  }
 },
 "nbformat": 4,
 "nbformat_minor": 5
}
