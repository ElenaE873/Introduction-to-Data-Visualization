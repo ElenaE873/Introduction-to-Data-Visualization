{
 "cells": [
  {
   "cell_type": "markdown",
   "id": "974a471a",
   "metadata": {},
   "source": [
    "Viewing LOTS of data that would otherwise be very cumbersome to view in ONE plot"
   ]
  },
  {
   "cell_type": "code",
   "execution_count": null,
   "id": "9cdc9ec9",
   "metadata": {},
   "outputs": [],
   "source": [
    "#starting from simple structure\n",
    "\n",
    "import matplotlib.pyplot as plt\n",
    "\n",
    "fig, ax = plt.subplots()   #creates only ONE plot without any inputs\n",
    "\n",
    "ax.plot(df[\"column1\"], df[\"column2\"])\n",
    "ax.plot(df[\"column1\"], df[\"column3\"])\n",
    "plt.show()"
   ]
  },
  {
   "cell_type": "code",
   "execution_count": null,
   "id": "1c9d870c",
   "metadata": {},
   "outputs": [],
   "source": [
    "#creating multiple subplots\n",
    "\n",
    "fig, ax = plt.subplots(3, 2)  #3 rows and 2 column structure\n",
    "\n",
    "ax.shape # can notice that is now an array of objects with this shape "
   ]
  },
  {
   "cell_type": "code",
   "execution_count": null,
   "id": "031e650b",
   "metadata": {},
   "outputs": [],
   "source": [
    "#to add data, it must be indexed where the data should be entered\n",
    "\n",
    "ax[0, 0].plot(df[\"column1\"], df[\"column2\"])\n"
   ]
  },
  {
   "cell_type": "code",
   "execution_count": null,
   "id": "a824f238",
   "metadata": {},
   "outputs": [],
   "source": [
    "#one dimensional array (1 column)\n",
    "fig, ax = plt.subplots(2, 1)\n",
    "\n",
    "#you only need to pass on 1 index to access the elements of this array\n",
    "#this way we can insert data into different charts in the array\n",
    "ax[0].plot(df[\"column1\"], df[\"column2\"])\n",
    "ax[0].plot(df[\"column1\"], df[\"column3\"])\n",
    "ax[1].plot(df[\"column4\"], df[\"column5\"])"
   ]
  }
 ],
 "metadata": {
  "kernelspec": {
   "display_name": "Python 3 (ipykernel)",
   "language": "python",
   "name": "python3"
  },
  "language_info": {
   "codemirror_mode": {
    "name": "ipython",
    "version": 3
   },
   "file_extension": ".py",
   "mimetype": "text/x-python",
   "name": "python",
   "nbconvert_exporter": "python",
   "pygments_lexer": "ipython3",
   "version": "3.9.7"
  }
 },
 "nbformat": 4,
 "nbformat_minor": 5
}
