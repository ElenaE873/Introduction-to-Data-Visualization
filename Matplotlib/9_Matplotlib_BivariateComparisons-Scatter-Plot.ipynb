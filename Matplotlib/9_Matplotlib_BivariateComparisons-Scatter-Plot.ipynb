{
 "cells": [
  {
   "cell_type": "code",
   "execution_count": null,
   "id": "bec617bb",
   "metadata": {},
   "outputs": [],
   "source": [
    "#useful to plot two related variables (a lot often used in weather data)\n",
    "\n",
    "fig, ax = plt.subplots()\n",
    "ax.scatter(df[\"column1\"],\n",
    "          df[\"column2\"])"
   ]
  },
  {
   "cell_type": "markdown",
   "id": "ee1c7e7a",
   "metadata": {},
   "source": [
    "##### customization"
   ]
  },
  {
   "cell_type": "code",
   "execution_count": null,
   "id": "2679a1ae",
   "metadata": {},
   "outputs": [],
   "source": [
    "# 1- Creating 2 dataframes based on two timeframes\n",
    "onetimeframe = df[\"1999-01-01\":\"2999-01-01\"]\n",
    "secondtimeframe = df[\"3999-01-01\":\"4999-01-01\"]\n",
    "\n",
    "# 2- Setting the data to the plots\n",
    "fig, ax = plt.subplots()\n",
    "\n",
    "#first scatter plot of two variables for the first dataframe\n",
    "ax.scatter(onetimeframe[\"column1\"], onetimeframe[\"column2\"], color=\"color\", label=\"onetimeframe\")\n",
    "\n",
    "#second scatter plots of two variables for the second dataframe\n",
    "ax.scatter(secondtimeframe[\"column1\"], secondtimeframe[\"column2\"], color=\"color\", label=\"onetimeframe\")\n",
    "\n",
    "# 3- Creating legend, labels, and showing plot\n",
    "ax.legend()\n",
    "\n",
    "ax.set_xlabel(\"Title\")\n",
    "ax.set_ylabel(\"Title\")\n",
    "\n",
    "plt.show()"
   ]
  },
  {
   "cell_type": "code",
   "execution_count": null,
   "id": "d5b8fac4",
   "metadata": {},
   "outputs": [],
   "source": [
    "#using color as a third variable using the index of a dataframe as the input to argument \"c\"\n",
    "\n",
    "ax.scatter(onetimeframe[\"column1\"], onetimeframe[\"column2\"],\n",
    "           c = onetimeframe.index)\n",
    "            #time is now encoded in color of the data\n",
    "            #dark blue - early on\n",
    "            #bright yellow - later on"
   ]
  }
 ],
 "metadata": {
  "kernelspec": {
   "display_name": "Python 3 (ipykernel)",
   "language": "python",
   "name": "python3"
  },
  "language_info": {
   "codemirror_mode": {
    "name": "ipython",
    "version": 3
   },
   "file_extension": ".py",
   "mimetype": "text/x-python",
   "name": "python",
   "nbconvert_exporter": "python",
   "pygments_lexer": "ipython3",
   "version": "3.9.7"
  }
 },
 "nbformat": 4,
 "nbformat_minor": 5
}
