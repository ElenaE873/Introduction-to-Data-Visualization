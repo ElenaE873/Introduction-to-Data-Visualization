{
 "cells": [
  {
   "cell_type": "code",
   "execution_count": null,
   "id": "e77f8940",
   "metadata": {},
   "outputs": [],
   "source": [
    "import matplotlib.pyplot as plt\n",
    "#importing the necessary submodule in the pyplot interface"
   ]
  },
  {
   "cell_type": "code",
   "execution_count": null,
   "id": "9d62982e",
   "metadata": {},
   "outputs": [],
   "source": [
    "fig, ax = plt.subplots()\n",
    "\n",
    "#2 objects\n",
    "#fig object is a container; holds what you see on the plot\n",
    "#ax object holds the data\n",
    "\n",
    "plt.show() #shows the data being plotted"
   ]
  },
  {
   "cell_type": "code",
   "execution_count": null,
   "id": "b7ba4093",
   "metadata": {},
   "outputs": [],
   "source": [
    "#two columns that we want to plot with\n",
    "\n",
    "df[\"column1\"]\n",
    "df[\"column2\"]"
   ]
  },
  {
   "cell_type": "code",
   "execution_count": null,
   "id": "cf0eb177",
   "metadata": {},
   "outputs": [],
   "source": [
    "#adding the data to the axes\n",
    "#ax.plot(x,y)\n",
    "\n",
    "ax.plot(df[\"column1\"], df[\"column2\"])\n",
    "plt.show()"
   ]
  },
  {
   "cell_type": "code",
   "execution_count": null,
   "id": "bec3ac84",
   "metadata": {},
   "outputs": [],
   "source": [
    "#adding more than 1 y value to the plot\n",
    "#done by calling the plot function again\n",
    "\n",
    "ax.plot(df[\"column1\"], df[\"column3\"])"
   ]
  },
  {
   "cell_type": "code",
   "execution_count": null,
   "id": "7204b66e",
   "metadata": {},
   "outputs": [],
   "source": [
    "#putting it together all in one cell\n",
    "\n",
    "import matplotlib.pyplot as plt\n",
    "\n",
    "fig, ax = plt.subplots()\n",
    "ax.plot(df[\"column1\"], df[\"column2\"])\n",
    "ax.plot(df[\"column1\"], df[\"column3\"])\n",
    "plt.show()"
   ]
  }
 ],
 "metadata": {
  "kernelspec": {
   "display_name": "Python 3 (ipykernel)",
   "language": "python",
   "name": "python3"
  },
  "language_info": {
   "codemirror_mode": {
    "name": "ipython",
    "version": 3
   },
   "file_extension": ".py",
   "mimetype": "text/x-python",
   "name": "python",
   "nbconvert_exporter": "python",
   "pygments_lexer": "ipython3",
   "version": "3.9.7"
  }
 },
 "nbformat": 4,
 "nbformat_minor": 5
}
