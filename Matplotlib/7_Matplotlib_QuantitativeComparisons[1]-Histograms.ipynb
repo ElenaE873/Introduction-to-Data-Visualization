{
 "cells": [
  {
   "cell_type": "markdown",
   "id": "459bbdd0",
   "metadata": {},
   "source": [
    "Bar Charts will do a quantitative aggregation\n",
    "- Histograms will show the distribution quantitative analysis of a variable"
   ]
  },
  {
   "cell_type": "code",
   "execution_count": null,
   "id": "8b2ffd7e",
   "metadata": {},
   "outputs": [],
   "source": [
    "fig, ax = plt.subplots()\n",
    "ax.hist(data[\"column\"])\n",
    "\n",
    "#here you can see that the histogram is applied over the values WITHIN a variable"
   ]
  },
  {
   "cell_type": "code",
   "execution_count": null,
   "id": "690c703b",
   "metadata": {},
   "outputs": [],
   "source": [
    "#similarly to bar charts, histograms can also be multiple per chart\n",
    "\n",
    "fig, ax = plt.subplots()\n",
    "ax.hist(data[\"column1\"])\n",
    "ax.hist(data[\"column2\"])\n",
    "ax.set_xlabel(\"Title\")\n",
    "ax.set_ylabel(\"Title\")\n",
    "plt.show()"
   ]
  },
  {
   "cell_type": "code",
   "execution_count": null,
   "id": "64f92e56",
   "metadata": {},
   "outputs": [],
   "source": [
    "#lables are very much necessary in histograms\n",
    "\n",
    "fig, ax = plt.subplots()\n",
    "ax.hist(data[\"column1\"], label=\"Label1Description\")\n",
    "ax.hist(data[\"column2\"], label=\"Label2Description\")\n",
    "ax.legend()\n",
    "plt.show()"
   ]
  },
  {
   "cell_type": "code",
   "execution_count": null,
   "id": "34ae01cc",
   "metadata": {},
   "outputs": [],
   "source": [
    "#by default the number of bars in a histogram defaults to 10 bins\n",
    "#this can also be customized\n",
    "fig, ax = plt.subplots()\n",
    "ax.hist(data[\"column1\"], label=\"Label1Description\", bins=5)\n",
    "ax.hist(data[\"column2\"], label=\"Label2Description\", bins=5)\n",
    "ax.legend()\n",
    "plt.show()"
   ]
  },
  {
   "cell_type": "code",
   "execution_count": null,
   "id": "38c6d9c7",
   "metadata": {},
   "outputs": [],
   "source": [
    "#can also provide a sequence of values to determine where a bin begins and ends\n",
    "#these values are the values between the bins\n",
    "\n",
    "fig, ax = plt.subplots()\n",
    "ax.hist(data[\"column1\"], label=\"Label1Description\", \n",
    "        bins=[5, 10, 20, 40, 60], histtype=\"step\")\n",
    "ax.hist(data[\"column2\"], label=\"Label2Description\", \n",
    "        bins=[5, 10, 20, 40, 60], histtype=\"step\")\n",
    "\n",
    "#histype of \"step\": displays the histogram as thin lines, instead of solid bars\n",
    "\n",
    "ax.legend()\n",
    "plt.show()"
   ]
  }
 ],
 "metadata": {
  "kernelspec": {
   "display_name": "Python 3 (ipykernel)",
   "language": "python",
   "name": "python3"
  },
  "language_info": {
   "codemirror_mode": {
    "name": "ipython",
    "version": 3
   },
   "file_extension": ".py",
   "mimetype": "text/x-python",
   "name": "python",
   "nbconvert_exporter": "python",
   "pygments_lexer": "ipython3",
   "version": "3.9.7"
  }
 },
 "nbformat": 4,
 "nbformat_minor": 5
}
