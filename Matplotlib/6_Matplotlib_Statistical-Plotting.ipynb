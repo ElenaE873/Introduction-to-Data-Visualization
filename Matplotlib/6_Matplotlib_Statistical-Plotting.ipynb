{
 "cells": [
  {
   "cell_type": "markdown",
   "id": "167a2d01",
   "metadata": {},
   "source": [
    "a set of methods for visualization to make comparisons"
   ]
  },
  {
   "cell_type": "markdown",
   "id": "72f51ba6",
   "metadata": {},
   "source": [
    "##### error bars in plots"
   ]
  },
  {
   "cell_type": "markdown",
   "id": "645cfeef",
   "metadata": {},
   "source": [
    "- additional markers on a plot or barchart that tell us something about the distribution of the data\n",
    "- summarize the distribution of the data, in numbers such as the stanard deviation of the values\n",
    "- displayed as a vertical marker on the bar chart"
   ]
  },
  {
   "cell_type": "markdown",
   "id": "8a9b67e8",
   "metadata": {},
   "source": [
    "##### Can be added to:"
   ]
  },
  {
   "cell_type": "markdown",
   "id": "d81dbcee",
   "metadata": {},
   "source": [
    "- a bar chart\n",
    "- a line plot\n",
    "- box plot"
   ]
  },
  {
   "cell_type": "code",
   "execution_count": null,
   "id": "cea7684b",
   "metadata": {},
   "outputs": [],
   "source": [
    "#standard deviation to a bar chart\n",
    "\n",
    "fig, ax = plt.subplots()\n",
    "\n",
    "ax.bar(\"Title\", data[\"column1\"].mean(),\n",
    "      yerr=data[\"column1\"].std())\n",
    "\n",
    "\n",
    "\n",
    "ax.set_ylabel(\"Title\")\n",
    "plt.show()"
   ]
  },
  {
   "cell_type": "code",
   "execution_count": null,
   "id": "abe96f16",
   "metadata": {},
   "outputs": [],
   "source": [
    "#adding error bars to lineplots\n",
    "\n",
    "fix, ax = plt.subplots()\n",
    "\n",
    "ax.errorbar(df[\"column1-xaxis\"],\n",
    "           df[\"column2-yaxis\"],\n",
    "           yerr=df['stddevvalues'])\n",
    "            #this adds vertical markers to line plots\n",
    "\n",
    "ax.set_ylabel(\"Title\")\n",
    "plt.show()"
   ]
  },
  {
   "cell_type": "code",
   "execution_count": null,
   "id": "93d0f366",
   "metadata": {},
   "outputs": [],
   "source": [
    "#box plot\n",
    "\n",
    "fig, ax = plt.subplots()\n",
    "\n",
    "ax.boxplot([df[\"column1\"],\n",
    "           df[\"column2\"]])\n",
    "\n",
    "# Add x-axis tick labels:\n",
    "ax.set_xticklabels([\"column1\", \"column2\"])\n",
    "\n",
    "ax.set_ylabel(\"Title\")\n",
    "plt.show()\n",
    "\n",
    "#this kind of plot show us some landmarks in each distribution:\n",
    "    #median value\n",
    "    #25% & 75% interquartiles\n",
    "    #99% of the data that is \"normal\"\n",
    "    #outliers in guassian distributions"
   ]
  },
  {
   "cell_type": "code",
   "execution_count": null,
   "id": "85204ec3",
   "metadata": {},
   "outputs": [],
   "source": [
    "fig, ax = plt.subplots()\n",
    "\n",
    "# Add a boxplot for the \"Height\" column in the DataFrames\n",
    "ax.boxplot([mens_rowing[\"Height\"], mens_gymnastics[\"Height\"]])\n",
    "\n",
    "# Add x-axis tick labels:\n",
    "ax.set_xticklabels([\"Rowing\", \"Gymnastics\"])\n",
    "\n",
    "# Add a y-axis label\n",
    "ax.set_ylabel(\"Height (cm)\")\n",
    "\n",
    "plt.show()"
   ]
  }
 ],
 "metadata": {
  "kernelspec": {
   "display_name": "Python 3 (ipykernel)",
   "language": "python",
   "name": "python3"
  },
  "language_info": {
   "codemirror_mode": {
    "name": "ipython",
    "version": 3
   },
   "file_extension": ".py",
   "mimetype": "text/x-python",
   "name": "python",
   "nbconvert_exporter": "python",
   "pygments_lexer": "ipython3",
   "version": "3.9.7"
  }
 },
 "nbformat": 4,
 "nbformat_minor": 5
}
