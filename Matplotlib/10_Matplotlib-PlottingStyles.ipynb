{
 "cells": [
  {
   "cell_type": "code",
   "execution_count": null,
   "id": "5ce956b5",
   "metadata": {},
   "outputs": [],
   "source": [
    "#examples\n",
    "plt.style.use('ggplot')\n",
    "#should be entered before the use of plots\n",
    "\n",
    "plt.style.use('default')\n",
    "\n",
    "plt.style.use('bmh')\n",
    "\n",
    "plt.style.use('seaborn-colorblind')\n",
    "\n",
    "#different styles available at: \n",
    "#http://matplotlib.org/gallery/style_sheets/style_sheets_reference"
   ]
  },
  {
   "cell_type": "code",
   "execution_count": null,
   "id": "95ee92eb",
   "metadata": {},
   "outputs": [],
   "source": [
    "#saving figure to file\n",
    "fig.savefig(\"imagename.png\")\n",
    "\n",
    "#or\n",
    "fig.savefig(\"imagename.jpg\")"
   ]
  },
  {
   "cell_type": "code",
   "execution_count": null,
   "id": "5adb7752",
   "metadata": {},
   "outputs": [],
   "source": [
    "#setting the size of your figure\n",
    "fig.set_size_inches([5, 3])"
   ]
  },
  {
   "cell_type": "code",
   "execution_count": null,
   "id": "c6c34a80",
   "metadata": {},
   "outputs": [],
   "source": [
    "# Save as a PNG file with 300 dpi\n",
    "fig.savefig('my_figure_300dpi.png', dpi=300)"
   ]
  }
 ],
 "metadata": {
  "kernelspec": {
   "display_name": "Python 3 (ipykernel)",
   "language": "python",
   "name": "python3"
  },
  "language_info": {
   "codemirror_mode": {
    "name": "ipython",
    "version": 3
   },
   "file_extension": ".py",
   "mimetype": "text/x-python",
   "name": "python",
   "nbconvert_exporter": "python",
   "pygments_lexer": "ipython3",
   "version": "3.9.7"
  }
 },
 "nbformat": 4,
 "nbformat_minor": 5
}
